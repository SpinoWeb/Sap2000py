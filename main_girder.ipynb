{
 "cells": [
  {
   "cell_type": "code",
   "execution_count": null,
   "metadata": {},
   "outputs": [],
   "source": [
    "from Scripts.extract_polygon_from_dxf import DXF2Polygons\n",
    "dxf_file_path = r'Test\\TongZhouSha_Main_Girder_1.dxf'\n",
    "unit_of_dxf = 'cm'\n",
    "show_log = True\n",
    "mainsec = DXF2Polygons(dxf_file_path, unit_of_dxf, show_log)\n",
    "mainsec.plot()"
   ]
  },
  {
   "cell_type": "code",
   "execution_count": 15,
   "metadata": {},
   "outputs": [
    {
     "ename": "TypeError",
     "evalue": "baseclass() takes no arguments",
     "output_type": "error",
     "traceback": [
      "\u001b[1;31m---------------------------------------------------------------------------\u001b[0m",
      "\u001b[1;31mTypeError\u001b[0m                                 Traceback (most recent call last)",
      "\u001b[1;32mf:\\python\\Sap2000\\GithubRepository\\Sap2000py\\main_girder.ipynb 单元格 2\u001b[0m line \u001b[0;36m2\n\u001b[0;32m     <a href='vscode-notebook-cell:/f%3A/python/Sap2000/GithubRepository/Sap2000py/main_girder.ipynb#W1sZmlsZQ%3D%3D?line=16'>17</a>\u001b[0m         \u001b[39mprint\u001b[39m(\u001b[39mcls\u001b[39m)\n\u001b[0;32m     <a href='vscode-notebook-cell:/f%3A/python/Sap2000/GithubRepository/Sap2000py/main_girder.ipynb#W1sZmlsZQ%3D%3D?line=17'>18</a>\u001b[0m         \u001b[39mprint\u001b[39m(\u001b[39m'\u001b[39m\u001b[39mlaji!\u001b[39m\u001b[39m'\u001b[39m)\n\u001b[1;32m---> <a href='vscode-notebook-cell:/f%3A/python/Sap2000/GithubRepository/Sap2000py/main_girder.ipynb#W1sZmlsZQ%3D%3D?line=19'>20</a>\u001b[0m b1 \u001b[39m=\u001b[39m baseclass(\u001b[39m'\u001b[39;49m\u001b[39mb1\u001b[39;49m\u001b[39m'\u001b[39;49m)    \n\u001b[0;32m     <a href='vscode-notebook-cell:/f%3A/python/Sap2000/GithubRepository/Sap2000py/main_girder.ipynb#W1sZmlsZQ%3D%3D?line=20'>21</a>\u001b[0m p1 \u001b[39m=\u001b[39m point(\u001b[39m1\u001b[39m,\u001b[39m2\u001b[39m,\u001b[39m'\u001b[39m\u001b[39mp1\u001b[39m\u001b[39m'\u001b[39m)\n\u001b[0;32m     <a href='vscode-notebook-cell:/f%3A/python/Sap2000/GithubRepository/Sap2000py/main_girder.ipynb#W1sZmlsZQ%3D%3D?line=21'>22</a>\u001b[0m p1\u001b[39m.\u001b[39mprint_name()\n",
      "\u001b[1;31mTypeError\u001b[0m: baseclass() takes no arguments"
     ]
    }
   ],
   "source": [
    "from dataclasses import dataclass\n",
    "\n",
    "class baseclass:\n",
    "    name = 'upper class'\n",
    "    \n",
    "\n",
    "@dataclass\n",
    "class point():\n",
    "    def __init__(self, x, y,name):\n",
    "        self.x = x\n",
    "        self.y = y\n",
    "        self.name = name\n",
    "        \n",
    "    \n",
    "    @classmethod\n",
    "    def print_name(cls):\n",
    "        print(cls)\n",
    "        print('laji!')\n",
    "    \n",
    "b1 = baseclass('b1')    \n",
    "p1 = point(1,2,'p1')\n",
    "p1.print_name()\n",
    "\n"
   ]
  },
  {
   "cell_type": "code",
   "execution_count": 40,
   "metadata": {},
   "outputs": [
    {
     "name": "stdout",
     "output_type": "stream",
     "text": [
      "TongZhouSha_H_below_40.dxf\n",
      "Test\\TongZhouSha_H_below_40.dxf\n"
     ]
    }
   ],
   "source": [
    "from pathlib import Path\n",
    "path = Path('./Test/TongZhouSha_H_below_40.dxf')\n",
    "\n",
    "path1 = Path('.') / \"Test\"\n",
    "path2 = Path('.')\n",
    "print(path.relative_to(path1))\n",
    "print(path.relative_to(path2))"
   ]
  }
 ],
 "metadata": {
  "kernelspec": {
   "display_name": "sap2000",
   "language": "python",
   "name": "python3"
  },
  "language_info": {
   "codemirror_mode": {
    "name": "ipython",
    "version": 3
   },
   "file_extension": ".py",
   "mimetype": "text/x-python",
   "name": "python",
   "nbconvert_exporter": "python",
   "pygments_lexer": "ipython3",
   "version": "3.9.19"
  }
 },
 "nbformat": 4,
 "nbformat_minor": 2
}
